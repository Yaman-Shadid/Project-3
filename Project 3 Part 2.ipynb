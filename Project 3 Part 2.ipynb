{
 "cells": [
  {
   "cell_type": "code",
   "execution_count": 13,
   "metadata": {},
   "outputs": [],
   "source": [
    "import requests # to make TMDB API calls\n",
    "import locale # to format currency as USD\n",
    "locale.setlocale( locale.LC_ALL, '' )\n",
    "\n",
    "import pandas as pd\n",
    "import matplotlib\n",
    "import matplotlib.pyplot as plt\n",
    "from matplotlib.ticker import FuncFormatter # to format currency on char"
   ]
  },
  {
   "cell_type": "code",
   "execution_count": 14,
   "metadata": {},
   "outputs": [
    {
     "data": {
      "text/plain": [
       "dict_keys(['client-id', 'api-key'])"
      ]
     },
     "execution_count": 14,
     "metadata": {},
     "output_type": "execute_result"
    }
   ],
   "source": [
    "import json\n",
    "with open(r'C:\\Users\\verya\\.secret\\TMDB_api.json') as f: #change the path to match YOUR path!!\n",
    "    login = json.load(f)\n",
    "login.keys()"
   ]
  },
  {
   "cell_type": "code",
   "execution_count": 15,
   "metadata": {},
   "outputs": [],
   "source": [
    "# pip install tmdbv3api"
   ]
  },
  {
   "cell_type": "code",
   "execution_count": 16,
   "metadata": {},
   "outputs": [],
   "source": [
    "from tmdbv3api import tmdb\n",
    "import tmdbsimple as tmdb\n",
    "tmdb.API_KEY = login['api-key']"
   ]
  },
  {
   "cell_type": "code",
   "execution_count": 17,
   "metadata": {},
   "outputs": [],
   "source": [
    "# pip install requests"
   ]
  },
  {
   "cell_type": "code",
   "execution_count": 18,
   "metadata": {},
   "outputs": [
    {
     "name": "stdout",
     "output_type": "stream",
     "text": [
      "{\"status_code\":7,\"status_message\":\"Invalid API key: You must be granted a valid key.\",\"success\":false}\n",
      "\n"
     ]
    }
   ],
   "source": [
    "import requests\n",
    "\n",
    "url = \"https://api.themoviedb.org/3/certification/movie/list\"\n",
    "\n",
    "headers = {\n",
    "    \"accept\": \"application/json\",\n",
    "    \"Authorization\": \"7f229cbb51f6e0cde525d26e282d9724\"\n",
    "}\n",
    "\n",
    "response = requests.get(url, headers=headers)\n",
    "\n",
    "print(response.text)"
   ]
  },
  {
   "cell_type": "code",
   "execution_count": 19,
   "metadata": {},
   "outputs": [
    {
     "name": "stdout",
     "output_type": "stream",
     "text": [
      "Error: 401\n"
     ]
    }
   ],
   "source": [
    "if response.status_code == 200:\n",
    "    data = response.json()\n",
    "else:\n",
    "    print(\"Error:\", response.status_code)"
   ]
  },
  {
   "cell_type": "code",
   "execution_count": 20,
   "metadata": {},
   "outputs": [],
   "source": [
    "movie = tmdb.Movies(603)"
   ]
  },
  {
   "cell_type": "code",
   "execution_count": 21,
   "metadata": {},
   "outputs": [
    {
     "data": {
      "text/plain": [
       "{'adult': False,\n",
       " 'backdrop_path': '/oMsxZEvz9a708d49b6UdZK1KAo5.jpg',\n",
       " 'belongs_to_collection': {'id': 2344,\n",
       "  'name': 'The Matrix Collection',\n",
       "  'poster_path': '/bV9qTVHTVf0gkW0j7p7M0ILD4pG.jpg',\n",
       "  'backdrop_path': '/bRm2DEgUiYciDw3myHuYFInD7la.jpg'},\n",
       " 'budget': 63000000,\n",
       " 'genres': [{'id': 28, 'name': 'Action'},\n",
       "  {'id': 878, 'name': 'Science Fiction'}],\n",
       " 'homepage': 'http://www.warnerbros.com/matrix',\n",
       " 'id': 603,\n",
       " 'imdb_id': 'tt0133093',\n",
       " 'original_language': 'en',\n",
       " 'original_title': 'The Matrix',\n",
       " 'overview': 'Set in the 22nd century, The Matrix tells the story of a computer hacker who joins a group of underground insurgents fighting the vast and powerful computers who now rule the earth.',\n",
       " 'popularity': 69.459,\n",
       " 'poster_path': '/f89U3ADr1oiB1s9GkdPOEpXUk5H.jpg',\n",
       " 'production_companies': [{'id': 79,\n",
       "   'logo_path': '/tpFpsqbleCzEE2p5EgvUq6ozfCA.png',\n",
       "   'name': 'Village Roadshow Pictures',\n",
       "   'origin_country': 'US'},\n",
       "  {'id': 372,\n",
       "   'logo_path': None,\n",
       "   'name': 'Groucho II Film Partnership',\n",
       "   'origin_country': ''},\n",
       "  {'id': 1885,\n",
       "   'logo_path': '/xlvoOZr4s1PygosrwZyolIFe5xs.png',\n",
       "   'name': 'Silver Pictures',\n",
       "   'origin_country': 'US'},\n",
       "  {'id': 174,\n",
       "   'logo_path': '/IuAlhI9eVC9Z8UQWOIDdWRKSEJ.png',\n",
       "   'name': 'Warner Bros. Pictures',\n",
       "   'origin_country': 'US'}],\n",
       " 'production_countries': [{'iso_3166_1': 'US',\n",
       "   'name': 'United States of America'}],\n",
       " 'release_date': '1999-03-30',\n",
       " 'revenue': 463517383,\n",
       " 'runtime': 136,\n",
       " 'spoken_languages': [{'english_name': 'English',\n",
       "   'iso_639_1': 'en',\n",
       "   'name': 'English'}],\n",
       " 'status': 'Released',\n",
       " 'tagline': 'Welcome to the Real World.',\n",
       " 'title': 'The Matrix',\n",
       " 'video': False,\n",
       " 'vote_average': 8.206,\n",
       " 'vote_count': 23850}"
      ]
     },
     "execution_count": 21,
     "metadata": {},
     "output_type": "execute_result"
    }
   ],
   "source": [
    "info = movie.info()\n",
    "info"
   ]
  },
  {
   "cell_type": "code",
   "execution_count": 22,
   "metadata": {},
   "outputs": [
    {
     "data": {
      "text/plain": [
       "63000000"
      ]
     },
     "execution_count": 22,
     "metadata": {},
     "output_type": "execute_result"
    }
   ],
   "source": [
    "info['budget']"
   ]
  },
  {
   "cell_type": "code",
   "execution_count": 23,
   "metadata": {},
   "outputs": [
    {
     "data": {
      "text/plain": [
       "463517383"
      ]
     },
     "execution_count": 23,
     "metadata": {},
     "output_type": "execute_result"
    }
   ],
   "source": [
    "info['revenue']"
   ]
  },
  {
   "cell_type": "code",
   "execution_count": 24,
   "metadata": {},
   "outputs": [
    {
     "data": {
      "text/plain": [
       "'tt0133093'"
      ]
     },
     "execution_count": 24,
     "metadata": {},
     "output_type": "execute_result"
    }
   ],
   "source": [
    "info['imdb_id']"
   ]
  },
  {
   "cell_type": "code",
   "execution_count": 25,
   "metadata": {},
   "outputs": [
    {
     "data": {
      "text/plain": [
       "50000000"
      ]
     },
     "execution_count": 25,
     "metadata": {},
     "output_type": "execute_result"
    }
   ],
   "source": [
    "movie = tmdb.Movies('tt1361336')\n",
    "info = movie.info()\n",
    "info['budget']"
   ]
  },
  {
   "cell_type": "code",
   "execution_count": 26,
   "metadata": {},
   "outputs": [
    {
     "name": "stdout",
     "output_type": "stream",
     "text": [
      "PG\n",
      "PG\n",
      "PG\n"
     ]
    }
   ],
   "source": [
    "response = movie.releases()\n",
    "for c in movie.countries:\n",
    "    if c['iso_3166_1'] == 'US':\n",
    "        print(c['certification'])"
   ]
  },
  {
   "cell_type": "code",
   "execution_count": 27,
   "metadata": {},
   "outputs": [],
   "source": [
    "def get_movie_id(movie_id):\n",
    "    movie = tmdb.Movies(movie_id)\n",
    "    info = movie.info()\n",
    "    releases = movie.releases()\n",
    "    for c in releases['countries']:\n",
    "        if c['iso_3166_1'] == 'US':\n",
    "            info['certification'] = c['certification']\n",
    "    return info"
   ]
  },
  {
   "cell_type": "code",
   "execution_count": 28,
   "metadata": {},
   "outputs": [
    {
     "data": {
      "text/plain": [
       "{'adult': False,\n",
       " 'backdrop_path': '/9BBTo63ANSmhC4e6r62OJFuK2GL.jpg',\n",
       " 'belongs_to_collection': {'id': 86311,\n",
       "  'name': 'The Avengers Collection',\n",
       "  'poster_path': '/yFSIUVTCvgYrpalUktulvk3Gi5Y.jpg',\n",
       "  'backdrop_path': '/zuW6fOiusv4X9nnW3paHGfXcSll.jpg'},\n",
       " 'budget': 220000000,\n",
       " 'genres': [{'id': 878, 'name': 'Science Fiction'},\n",
       "  {'id': 28, 'name': 'Action'},\n",
       "  {'id': 12, 'name': 'Adventure'}],\n",
       " 'homepage': 'https://www.marvel.com/movies/the-avengers',\n",
       " 'id': 24428,\n",
       " 'imdb_id': 'tt0848228',\n",
       " 'original_language': 'en',\n",
       " 'original_title': 'The Avengers',\n",
       " 'overview': 'When an unexpected enemy emerges and threatens global safety and security, Nick Fury, director of the international peacekeeping agency known as S.H.I.E.L.D., finds himself in need of a team to pull the world back from the brink of disaster. Spanning the globe, a daring recruitment effort begins!',\n",
       " 'popularity': 85.527,\n",
       " 'poster_path': '/RYMX2wcKCBAr24UyPD7xwmjaTn.jpg',\n",
       " 'production_companies': [{'id': 420,\n",
       "   'logo_path': '/hUzeosd33nzE5MCNsZxCGEKTXaQ.png',\n",
       "   'name': 'Marvel Studios',\n",
       "   'origin_country': 'US'}],\n",
       " 'production_countries': [{'iso_3166_1': 'US',\n",
       "   'name': 'United States of America'}],\n",
       " 'release_date': '2012-04-25',\n",
       " 'revenue': 1518815515,\n",
       " 'runtime': 143,\n",
       " 'spoken_languages': [{'english_name': 'English',\n",
       "   'iso_639_1': 'en',\n",
       "   'name': 'English'},\n",
       "  {'english_name': 'Hindi', 'iso_639_1': 'hi', 'name': 'हिन्दी'},\n",
       "  {'english_name': 'Russian', 'iso_639_1': 'ru', 'name': 'Pусский'}],\n",
       " 'status': 'Released',\n",
       " 'tagline': 'Some assembly required.',\n",
       " 'title': 'The Avengers',\n",
       " 'video': False,\n",
       " 'vote_average': 7.71,\n",
       " 'vote_count': 29185,\n",
       " 'certification': 'PG-13'}"
      ]
     },
     "execution_count": 28,
     "metadata": {},
     "output_type": "execute_result"
    }
   ],
   "source": [
    "test = get_movie_id(\"tt0848228\")\n",
    "test"
   ]
  },
  {
   "cell_type": "code",
   "execution_count": 29,
   "metadata": {},
   "outputs": [
    {
     "data": {
      "text/plain": [
       "['name.basics.tsv.gz',\n",
       " 'title-akas-us-only.csv',\n",
       " 'title.akas.tsv.gz',\n",
       " 'title.basics.tsv.gz',\n",
       " 'title.crew.tsv.gz',\n",
       " 'title.episode.tsv.gz',\n",
       " 'title.principals.tsv.gz',\n",
       " 'title.ratings.tsv.gz',\n",
       " 'title_basics.csv.gz',\n",
       " 'title_ratings.csv.gz']"
      ]
     },
     "execution_count": 29,
     "metadata": {},
     "output_type": "execute_result"
    }
   ],
   "source": [
    "import os, time,json\n",
    "import tmdbsimple as tmdb \n",
    "FOLDER = \"Data\"\n",
    "os.makedirs(FOLDER, exist_ok=True)\n",
    "os.listdir(FOLDER)"
   ]
  },
  {
   "cell_type": "code",
   "execution_count": 30,
   "metadata": {},
   "outputs": [],
   "source": [
    "basics = pd.read_csv(r'Data\\title_basics.csv.gz')"
   ]
  },
  {
   "cell_type": "code",
   "execution_count": 31,
   "metadata": {},
   "outputs": [
    {
     "data": {
      "text/html": [
       "<div>\n",
       "<style scoped>\n",
       "    .dataframe tbody tr th:only-of-type {\n",
       "        vertical-align: middle;\n",
       "    }\n",
       "\n",
       "    .dataframe tbody tr th {\n",
       "        vertical-align: top;\n",
       "    }\n",
       "\n",
       "    .dataframe thead th {\n",
       "        text-align: right;\n",
       "    }\n",
       "</style>\n",
       "<table border=\"1\" class=\"dataframe\">\n",
       "  <thead>\n",
       "    <tr style=\"text-align: right;\">\n",
       "      <th></th>\n",
       "      <th>tconst</th>\n",
       "      <th>titleType</th>\n",
       "      <th>primaryTitle</th>\n",
       "      <th>originalTitle</th>\n",
       "      <th>isAdult</th>\n",
       "      <th>startYear</th>\n",
       "      <th>endYear</th>\n",
       "      <th>runtimeMinutes</th>\n",
       "      <th>genres</th>\n",
       "    </tr>\n",
       "  </thead>\n",
       "  <tbody>\n",
       "    <tr>\n",
       "      <th>0</th>\n",
       "      <td>tt0035423</td>\n",
       "      <td>movie</td>\n",
       "      <td>Kate &amp; Leopold</td>\n",
       "      <td>Kate &amp; Leopold</td>\n",
       "      <td>0</td>\n",
       "      <td>2001.0</td>\n",
       "      <td>NaN</td>\n",
       "      <td>118</td>\n",
       "      <td>Comedy,Fantasy,Romance</td>\n",
       "    </tr>\n",
       "    <tr>\n",
       "      <th>1</th>\n",
       "      <td>tt0062336</td>\n",
       "      <td>movie</td>\n",
       "      <td>The Tango of the Widower and Its Distorting Mi...</td>\n",
       "      <td>El tango del viudo y su espejo deformante</td>\n",
       "      <td>0</td>\n",
       "      <td>2020.0</td>\n",
       "      <td>NaN</td>\n",
       "      <td>70</td>\n",
       "      <td>Drama</td>\n",
       "    </tr>\n",
       "    <tr>\n",
       "      <th>2</th>\n",
       "      <td>tt0068865</td>\n",
       "      <td>movie</td>\n",
       "      <td>Lives of Performers</td>\n",
       "      <td>Lives of Performers</td>\n",
       "      <td>0</td>\n",
       "      <td>2016.0</td>\n",
       "      <td>NaN</td>\n",
       "      <td>90</td>\n",
       "      <td>Drama</td>\n",
       "    </tr>\n",
       "    <tr>\n",
       "      <th>3</th>\n",
       "      <td>tt0069049</td>\n",
       "      <td>movie</td>\n",
       "      <td>The Other Side of the Wind</td>\n",
       "      <td>The Other Side of the Wind</td>\n",
       "      <td>0</td>\n",
       "      <td>2018.0</td>\n",
       "      <td>NaN</td>\n",
       "      <td>122</td>\n",
       "      <td>Drama</td>\n",
       "    </tr>\n",
       "    <tr>\n",
       "      <th>4</th>\n",
       "      <td>tt0082328</td>\n",
       "      <td>movie</td>\n",
       "      <td>Embodiment of Evil</td>\n",
       "      <td>Encarnação do Demônio</td>\n",
       "      <td>0</td>\n",
       "      <td>2008.0</td>\n",
       "      <td>NaN</td>\n",
       "      <td>94</td>\n",
       "      <td>Horror</td>\n",
       "    </tr>\n",
       "  </tbody>\n",
       "</table>\n",
       "</div>"
      ],
      "text/plain": [
       "      tconst titleType                                       primaryTitle  \\\n",
       "0  tt0035423     movie                                     Kate & Leopold   \n",
       "1  tt0062336     movie  The Tango of the Widower and Its Distorting Mi...   \n",
       "2  tt0068865     movie                                Lives of Performers   \n",
       "3  tt0069049     movie                         The Other Side of the Wind   \n",
       "4  tt0082328     movie                                 Embodiment of Evil   \n",
       "\n",
       "                               originalTitle  isAdult  startYear  endYear  \\\n",
       "0                             Kate & Leopold        0     2001.0      NaN   \n",
       "1  El tango del viudo y su espejo deformante        0     2020.0      NaN   \n",
       "2                        Lives of Performers        0     2016.0      NaN   \n",
       "3                 The Other Side of the Wind        0     2018.0      NaN   \n",
       "4                      Encarnação do Demônio        0     2008.0      NaN   \n",
       "\n",
       "   runtimeMinutes                  genres  \n",
       "0             118  Comedy,Fantasy,Romance  \n",
       "1              70                   Drama  \n",
       "2              90                   Drama  \n",
       "3             122                   Drama  \n",
       "4              94                  Horror  "
      ]
     },
     "execution_count": 31,
     "metadata": {},
     "output_type": "execute_result"
    }
   ],
   "source": [
    "basics.head()"
   ]
  },
  {
   "cell_type": "code",
   "execution_count": 37,
   "metadata": {},
   "outputs": [],
   "source": [
    "def write_json(new_data, filename):\n",
    "    with open(filename, 'r+') as file:\n",
    "        file_data = json.load(file)\n",
    "        if (type(new_data) == list) & (type(file_data) == list):\n",
    "            file_data.extend(new_data)\n",
    "        else:\n",
    "            file_data.append(new_data)\n",
    "        file.seek(0)\n",
    "        json.dump(file_data, file)"
   ]
  },
  {
   "cell_type": "code",
   "execution_count": 38,
   "metadata": {},
   "outputs": [
    {
     "data": {
      "text/plain": [
       "['name.basics.tsv.gz',\n",
       " 'title-akas-us-only.csv',\n",
       " 'title.akas.tsv.gz',\n",
       " 'title.basics.tsv.gz',\n",
       " 'title.crew.tsv.gz',\n",
       " 'title.episode.tsv.gz',\n",
       " 'title.principals.tsv.gz',\n",
       " 'title.ratings.tsv.gz',\n",
       " 'title_basics.csv.gz',\n",
       " 'title_ratings.csv.gz']"
      ]
     },
     "execution_count": 38,
     "metadata": {},
     "output_type": "execute_result"
    }
   ],
   "source": [
    "import os, time,json\n",
    "import tmdbsimple as tmdb \n",
    "FOLDER = \"Data/\"\n",
    "os.makedirs(FOLDER, exist_ok=True)\n",
    "os.listdir(FOLDER)"
   ]
  },
  {
   "cell_type": "code",
   "execution_count": 40,
   "metadata": {},
   "outputs": [],
   "source": [
    "Year_Range = [2000,2001]"
   ]
  },
  {
   "cell_type": "code",
   "execution_count": 42,
   "metadata": {},
   "outputs": [],
   "source": [
    "from tqdm.notebook import tqdm_notebook"
   ]
  },
  {
   "cell_type": "code",
   "execution_count": 43,
   "metadata": {},
   "outputs": [
    {
     "data": {
      "application/vnd.jupyter.widget-view+json": {
       "model_id": "a36ce1468c8542a386b9e8e696acd34e",
       "version_major": 2,
       "version_minor": 0
      },
      "text/plain": [
       "Processing years:   0%|          | 0/2 [00:00<?, ?it/s]"
      ]
     },
     "metadata": {},
     "output_type": "display_data"
    },
    {
     "data": {
      "application/vnd.jupyter.widget-view+json": {
       "model_id": "cb80a2184af4428db884537faff0c86e",
       "version_major": 2,
       "version_minor": 0
      },
      "text/plain": [
       "Fetching data for movies from 2000:   0%|          | 0/2756 [00:00<?, ?it/s]"
      ]
     },
     "metadata": {},
     "output_type": "display_data"
    },
    {
     "data": {
      "application/vnd.jupyter.widget-view+json": {
       "model_id": "0b9f7e451f9c4c8f9c051841c736f9ff",
       "version_major": 2,
       "version_minor": 0
      },
      "text/plain": [
       "Fetching data for movies from 2001:   0%|          | 0/2882 [00:00<?, ?it/s]"
      ]
     },
     "metadata": {},
     "output_type": "display_data"
    }
   ],
   "source": [
    "# Iterate over each year in the range\n",
    "for year in tqdm_notebook(Year_Range, desc='Processing years', position=0):\n",
    "    \n",
    "    # Define the file path for this year's data\n",
    "    json_filepath = f'{FOLDER}tmdb_api_data_for_{year}.json'\n",
    "    \n",
    "    # Check if the file already exists\n",
    "    if not os.path.exists(json_filepath):\n",
    "        # If not, create a new file and initialize with default data\n",
    "        with open(json_filepath, 'w') as file:\n",
    "            json.dump([{'imdb_id': 0}], file)\n",
    "    \n",
    "    # Load data corresponding to the current year\n",
    "    current_year_data = basics[basics['startYear'] == year].copy()\n",
    "    \n",
    "    # Extract movie IDs for the current year\n",
    "    list_of_movie_ids = current_year_data['tconst'].copy()\n",
    "    \n",
    "    # Load previously stored data from the JSON file\n",
    "    existing_data = pd.read_json(json_filepath)\n",
    "    \n",
    "    # Filter out movie IDs already fetched\n",
    "    ids_to_fetch = list_of_movie_ids[~list_of_movie_ids.isin(existing_data['imdb_id'])]\n",
    "    \n",
    "    # Process each movie ID to fetch its details\n",
    "    for movie_id in tqdm_notebook(ids_to_fetch,\n",
    "                                  desc=f'Fetching data for movies from {year}',\n",
    "                                  position=1,\n",
    "                                  leave=True):\n",
    "        try:\n",
    "            movie_data = get_movie_id(movie_id)\n",
    "            write_json(movie_data, json_filepath)\n",
    "            time.sleep(0.02)\n",
    "        except Exception:\n",
    "            # If an error occurs, skip to the next movie ID\n",
    "            continue\n",
    "\n",
    "    # Load the complete data for the current year\n",
    "    year_data_complete = pd.read_json(json_filepath)\n",
    "    \n",
    "    # Save the complete data as a compressed CSV file\n",
    "    year_data_complete.to_csv(f\"{FOLDER}final_tmdb_data_for_{year}.csv.gz\", compression=\"gzip\", index=False)\n"
   ]
  },
  {
   "cell_type": "markdown",
   "metadata": {},
   "source": [
    "# Extra Code, unneeded (only for testing)"
   ]
  },
  {
   "cell_type": "code",
   "execution_count": 33,
   "metadata": {},
   "outputs": [
    {
     "ename": "KeyError",
     "evalue": "'results'",
     "output_type": "error",
     "traceback": [
      "\u001b[1;31m---------------------------------------------------------------------------\u001b[0m",
      "\u001b[1;31mKeyError\u001b[0m                                  Traceback (most recent call last)",
      "\u001b[1;32mg:\\Github Desktop Reps\\Coding Dojo\\Project-3\\Project 3 Part 2.ipynb Cell 20\u001b[0m line \u001b[0;36m6\n\u001b[0;32m      <a href='vscode-notebook-cell:/g%3A/Github%20Desktop%20Reps/Coding%20Dojo/Project-3/Project%203%20Part%202.ipynb#X24sZmlsZQ%3D%3D?line=0'>1</a>\u001b[0m highest_revenue \u001b[39m=\u001b[39m response \u001b[39m# store parsed json response\u001b[39;00m\n\u001b[0;32m      <a href='vscode-notebook-cell:/g%3A/Github%20Desktop%20Reps/Coding%20Dojo/Project-3/Project%203%20Part%202.ipynb#X24sZmlsZQ%3D%3D?line=2'>3</a>\u001b[0m \u001b[39m# uncomment the next line to get a peek at the highest_revenue json structure\u001b[39;00m\n\u001b[0;32m      <a href='vscode-notebook-cell:/g%3A/Github%20Desktop%20Reps/Coding%20Dojo/Project-3/Project%203%20Part%202.ipynb#X24sZmlsZQ%3D%3D?line=3'>4</a>\u001b[0m \u001b[39m# highest_revenue\u001b[39;00m\n\u001b[1;32m----> <a href='vscode-notebook-cell:/g%3A/Github%20Desktop%20Reps/Coding%20Dojo/Project-3/Project%203%20Part%202.ipynb#X24sZmlsZQ%3D%3D?line=5'>6</a>\u001b[0m highest_revenue_films \u001b[39m=\u001b[39m highest_revenue[\u001b[39m'\u001b[39;49m\u001b[39mresults\u001b[39;49m\u001b[39m'\u001b[39;49m]\n",
      "\u001b[1;31mKeyError\u001b[0m: 'results'"
     ]
    }
   ],
   "source": [
    "highest_revenue = response # store parsed json response\n",
    "\n",
    "# uncomment the next line to get a peek at the highest_revenue json structure\n",
    "# highest_revenue\n",
    "\n",
    "highest_revenue_films = highest_revenue['results']"
   ]
  },
  {
   "cell_type": "code",
   "execution_count": 34,
   "metadata": {},
   "outputs": [
    {
     "name": "stdout",
     "output_type": "stream",
     "text": [
      "dict_keys(['id', 'countries'])\n"
     ]
    }
   ],
   "source": [
    "print(highest_revenue.keys())"
   ]
  },
  {
   "cell_type": "code",
   "execution_count": 35,
   "metadata": {},
   "outputs": [
    {
     "name": "stdout",
     "output_type": "stream",
     "text": [
      "{'id': 587807, 'countries': [{'certification': '', 'descriptors': [], 'iso_3166_1': 'CO', 'primary': False, 'release_date': '2021-02-12'}, {'certification': 'PG', 'descriptors': [], 'iso_3166_1': 'US', 'primary': False, 'release_date': '2021-02-26'}, {'certification': 'ALL', 'descriptors': [], 'iso_3166_1': 'KR', 'primary': False, 'release_date': '2021-02-24'}, {'certification': '', 'descriptors': [], 'iso_3166_1': 'ID', 'primary': False, 'release_date': '2021-03-10'}, {'certification': '6', 'descriptors': [], 'iso_3166_1': 'NL', 'primary': False, 'release_date': '2021-06-09'}, {'certification': 'G', 'descriptors': [], 'iso_3166_1': 'IE', 'primary': False, 'release_date': '2021-05-07'}, {'certification': 'M/6', 'descriptors': [], 'iso_3166_1': 'PT', 'primary': False, 'release_date': '2021-03-04'}, {'certification': '6+', 'descriptors': [], 'iso_3166_1': 'RU', 'primary': False, 'release_date': '2021-02-25'}, {'certification': 'L', 'descriptors': [], 'iso_3166_1': 'BR', 'primary': False, 'release_date': '2021-02-11'}, {'certification': '7', 'descriptors': [], 'iso_3166_1': 'DK', 'primary': False, 'release_date': '2021-02-11'}, {'certification': 'G', 'descriptors': [], 'iso_3166_1': 'AU', 'primary': False, 'release_date': '2021-04-01'}, {'certification': '', 'descriptors': [], 'iso_3166_1': 'HK', 'primary': False, 'release_date': '2021-03-11'}, {'certification': 'U', 'descriptors': [], 'iso_3166_1': 'FR', 'primary': False, 'release_date': '2021-05-19'}, {'certification': 'Btl', 'descriptors': [], 'iso_3166_1': 'SE', 'primary': False, 'release_date': '2021-05-28'}, {'certification': '0', 'descriptors': [], 'iso_3166_1': 'DE', 'primary': False, 'release_date': '2021-06-17'}, {'certification': '', 'descriptors': [], 'iso_3166_1': 'CZ', 'primary': False, 'release_date': '2021-06-10'}, {'certification': 'U', 'descriptors': [], 'iso_3166_1': 'SK', 'primary': False, 'release_date': '2021-05-27'}, {'certification': 'V', 'descriptors': [], 'iso_3166_1': 'LT', 'primary': False, 'release_date': '2021-05-07'}, {'certification': '6', 'descriptors': [], 'iso_3166_1': 'HU', 'primary': False, 'release_date': '2021-05-20'}, {'certification': '', 'descriptors': [], 'iso_3166_1': 'PL', 'primary': False, 'release_date': '2021-06-11'}, {'certification': '7', 'descriptors': [], 'iso_3166_1': 'ES', 'primary': False, 'release_date': '2021-03-26'}, {'certification': 'PG', 'descriptors': [], 'iso_3166_1': 'SG', 'primary': False, 'release_date': '2021-02-11'}, {'certification': 'Κ', 'descriptors': [], 'iso_3166_1': 'GR', 'primary': False, 'release_date': '2021-06-10'}, {'certification': '普遍級', 'descriptors': [], 'iso_3166_1': 'TW', 'primary': False, 'release_date': '2021-02-10'}, {'certification': '', 'descriptors': [], 'iso_3166_1': 'KZ', 'primary': False, 'release_date': '2021-02-25'}, {'certification': 'PG', 'descriptors': [], 'iso_3166_1': 'US', 'primary': False, 'release_date': '2021-02-26'}, {'certification': 'PG', 'descriptors': [], 'iso_3166_1': 'GB', 'primary': False, 'release_date': '2021-03-25'}, {'certification': 'G', 'descriptors': [], 'iso_3166_1': 'AU', 'primary': False, 'release_date': '2021-06-01'}, {'certification': 'G', 'descriptors': [], 'iso_3166_1': 'NZ', 'primary': False, 'release_date': '2021-06-01'}, {'certification': 'U', 'descriptors': [], 'iso_3166_1': 'FR', 'primary': False, 'release_date': '2021-09-16'}, {'certification': 'U', 'descriptors': [], 'iso_3166_1': 'FR', 'primary': False, 'release_date': '2022-02-16'}, {'certification': 'PG', 'descriptors': [], 'iso_3166_1': 'GB', 'primary': False, 'release_date': '2021-05-24'}, {'certification': 'G', 'descriptors': [], 'iso_3166_1': 'AU', 'primary': False, 'release_date': '2021-06-21'}, {'certification': 'PG', 'descriptors': [], 'iso_3166_1': 'US', 'primary': False, 'release_date': '2021-05-18'}, {'certification': 'U', 'descriptors': [], 'iso_3166_1': 'FR', 'primary': False, 'release_date': '2021-09-22'}, {'certification': '', 'descriptors': [], 'iso_3166_1': 'GR', 'primary': False, 'release_date': '2021-09-23'}, {'certification': '', 'descriptors': [], 'iso_3166_1': 'CA', 'primary': False, 'release_date': '2021-07-31'}]}\n"
     ]
    }
   ],
   "source": [
    "print(highest_revenue)"
   ]
  },
  {
   "cell_type": "code",
   "execution_count": null,
   "metadata": {},
   "outputs": [],
   "source": [
    "budget = data.get('budget')\n",
    "revenue = data.get('revenue')\n",
    "mpaa_rating = data.get('certification')  # or whatever key the API uses for MPAA Rating"
   ]
  },
  {
   "cell_type": "code",
   "execution_count": null,
   "metadata": {},
   "outputs": [
    {
     "name": "stdout",
     "output_type": "stream",
     "text": [
      "Budget: $None\n",
      "Revenue: $None\n",
      "MPAA Rating: None\n"
     ]
    }
   ],
   "source": [
    "# Displaying the Data\n",
    "print(f\"Budget: ${budget}\")\n",
    "print(f\"Revenue: ${revenue}\")\n",
    "print(f\"MPAA Rating: {mpaa_rating}\")"
   ]
  }
 ],
 "metadata": {
  "kernelspec": {
   "display_name": "dojo-env",
   "language": "python",
   "name": "python3"
  },
  "language_info": {
   "codemirror_mode": {
    "name": "ipython",
    "version": 3
   },
   "file_extension": ".py",
   "mimetype": "text/x-python",
   "name": "python",
   "nbconvert_exporter": "python",
   "pygments_lexer": "ipython3",
   "version": "3.9.15"
  },
  "orig_nbformat": 4
 },
 "nbformat": 4,
 "nbformat_minor": 2
}
